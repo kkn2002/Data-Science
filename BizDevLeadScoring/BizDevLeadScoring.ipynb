{
 "cells": [
  {
   "cell_type": "markdown",
   "metadata": {},
   "source": [
    "# Goals"
   ]
  },
  {
   "cell_type": "markdown",
   "metadata": {},
   "source": [
    "1. Predict what feature/attribute or combinations will lead to the highest percentage of score 1? \n",
    "2. What algorithms and methods would you use? \n",
    "3. What feature or features produce the best result? "
   ]
  },
  {
   "cell_type": "code",
   "execution_count": 1,
   "metadata": {
    "collapsed": true
   },
   "outputs": [],
   "source": [
    "import pandas as pd\n",
    "import numpy as np\n",
    "import matplotlib.pyplot as plt\n",
    "import scipy\n",
    "from sklearn import feature_selection\n",
    "from sklearn import model_selection\n",
    "from sklearn import preprocessing\n",
    "from sklearn import metrics\n",
    "from sklearn.model_selection import learning_curve\n",
    "from sklearn.model_selection import KFold\n",
    "from sklearn.model_selection import cross_val_score\n",
    "from sklearn.metrics import classification_report\n",
    "from sklearn.metrics import confusion_matrix\n",
    "from sklearn.metrics import accuracy_score\n",
    "from sklearn.linear_model import LogisticRegression\n",
    "from sklearn.tree import DecisionTreeClassifier\n",
    "from sklearn.neighbors import KNeighborsClassifier\n",
    "from sklearn.neural_network import MLPClassifier\n",
    "from sklearn.ensemble import RandomForestClassifier\n",
    "from sklearn.ensemble import AdaBoostClassifier\n",
    "from sklearn.ensemble import ExtraTreesClassifier\n",
    "from sklearn.ensemble import GradientBoostingClassifier\n",
    "from sklearn.naive_bayes import BernoulliNB\n",
    "from sklearn.svm import SVC\n",
    "from sklearn.metrics import classification_report\n",
    "from sklearn.model_selection import GridSearchCV\n",
    "from collections import defaultdict\n",
    "import seaborn as sns\n",
    "%matplotlib inline"
   ]
  },
  {
   "cell_type": "code",
   "execution_count": 2,
   "metadata": {},
   "outputs": [
    {
     "name": "stdout",
     "output_type": "stream",
     "text": [
      "<class 'pandas.core.frame.DataFrame'>\n",
      "RangeIndex: 10000 entries, 0 to 9999\n",
      "Data columns (total 19 columns):\n",
      "ORDER                    10000 non-null int64\n",
      "First_Name               10000 non-null object\n",
      "Last_Name                10000 non-null object\n",
      "Mailing_Street           10000 non-null object\n",
      "Mailing_City             10000 non-null object\n",
      "Mailing_State            10000 non-null object\n",
      "Mailing_Zip              10000 non-null int64\n",
      "Phone                    10000 non-null object\n",
      "Phone_to_Name            9963 non-null object\n",
      "Phone_Is_Valid           9999 non-null object\n",
      "Phone_Line_Type          9963 non-null object\n",
      "Phone_Is_Prepaid         8601 non-null object\n",
      "Phone_Is_Commercial      9663 non-null object\n",
      "Address_to_Name          9693 non-null object\n",
      "Address_Is_Valid         9989 non-null object\n",
      "Address_Type             9693 non-null object\n",
      "Address_Is_Active        9497 non-null object\n",
      "Address_Is_Commercial    9323 non-null object\n",
      "Call_Disposition         10000 non-null int64\n",
      "dtypes: int64(3), object(16)\n",
      "memory usage: 1.4+ MB\n"
     ]
    }
   ],
   "source": [
    "df = pd.read_csv('Lead_Verifiy_Response.csv')\n",
    "headers = df.columns\n",
    "headers = headers.map(lambda x: x.replace(' ', '_'))\n",
    "df.columns = headers\n",
    "df.info()"
   ]
  },
  {
   "cell_type": "markdown",
   "metadata": {},
   "source": [
    "## Data Cleaning, Transformation and Exploration"
   ]
  },
  {
   "cell_type": "markdown",
   "metadata": {},
   "source": [
    "There are several null values in the data. We could impute these using the most frequent values but as we see from the visualization plots later on, this may not be treating the data correctly. Looking through the data, we find that some null values are missing categories (e.g. if a phone is invalid, the corresponding entry for Phone Line Type is null). In these circumstances, it is better to create a new \"Invalid Phone\" category in order to distinguish between missing data ('Unknown') and invalid data (\"Invalid phone\")."
   ]
  },
  {
   "cell_type": "code",
   "execution_count": 3,
   "metadata": {},
   "outputs": [
    {
     "name": "stdout",
     "output_type": "stream",
     "text": [
      "<class 'pandas.core.frame.DataFrame'>\n",
      "RangeIndex: 10000 entries, 0 to 9999\n",
      "Data columns (total 19 columns):\n",
      "ORDER                    10000 non-null int64\n",
      "First_Name               10000 non-null object\n",
      "Last_Name                10000 non-null object\n",
      "Mailing_Street           10000 non-null object\n",
      "Mailing_City             10000 non-null object\n",
      "Mailing_State            10000 non-null object\n",
      "Mailing_Zip              10000 non-null int64\n",
      "Phone                    10000 non-null object\n",
      "Phone_to_Name            9999 non-null object\n",
      "Phone_Is_Valid           9999 non-null object\n",
      "Phone_Line_Type          9999 non-null object\n",
      "Phone_Is_Prepaid         9999 non-null object\n",
      "Phone_Is_Commercial      9999 non-null object\n",
      "Address_to_Name          9693 non-null object\n",
      "Address_Is_Valid         9989 non-null object\n",
      "Address_Type             9693 non-null object\n",
      "Address_Is_Active        9497 non-null object\n",
      "Address_Is_Commercial    9323 non-null object\n",
      "Call_Disposition         10000 non-null int64\n",
      "dtypes: int64(3), object(16)\n",
      "memory usage: 1.4+ MB\n"
     ]
    }
   ],
   "source": [
    "df.ix[df.Phone_Is_Valid == False, 'Phone_to_Name'] = 'Invalid phone number'\n",
    "\n",
    "df.ix[(df.Phone_Is_Valid == False) & (df.Phone_Line_Type.isnull()), 'Phone_Line_Type'] = 'Invalid phone'\n",
    "df.ix[(df.Phone_Is_Valid == False) & (df.Phone_Is_Prepaid.isnull()), 'Phone_Is_Prepaid'] = 'Invalid phone'\n",
    "df.ix[(df.Phone_Is_Valid == False) & (df.Phone_Is_Commercial.isnull()), 'Phone_Is_Commercial'] = 'Invalid phone'\n",
    "\n",
    "\n",
    "df.ix[(df.Phone_Is_Valid == True) & (df.Phone_Line_Type.isnull()), 'Phone_Line_Type'] = 'Unknown'\n",
    "df.ix[(df.Phone_Is_Valid == True) & (df.Phone_Is_Prepaid.isnull()), 'Phone_Is_Prepaid'] = 'Unknown'\n",
    "df.ix[(df.Phone_Is_Valid == True) & (df.Phone_Is_Commercial.isnull()), 'Phone_Is_Commercial'] = 'Unknown'\n",
    "\n",
    "df.info()"
   ]
  },
  {
   "cell_type": "code",
   "execution_count": 4,
   "metadata": {},
   "outputs": [
    {
     "name": "stdout",
     "output_type": "stream",
     "text": [
      "<class 'pandas.core.frame.DataFrame'>\n",
      "RangeIndex: 10000 entries, 0 to 9999\n",
      "Data columns (total 19 columns):\n",
      "ORDER                    10000 non-null int64\n",
      "First_Name               10000 non-null object\n",
      "Last_Name                10000 non-null object\n",
      "Mailing_Street           10000 non-null object\n",
      "Mailing_City             10000 non-null object\n",
      "Mailing_State            10000 non-null object\n",
      "Mailing_Zip              10000 non-null int64\n",
      "Phone                    10000 non-null object\n",
      "Phone_to_Name            9999 non-null object\n",
      "Phone_Is_Valid           9999 non-null object\n",
      "Phone_Line_Type          9999 non-null object\n",
      "Phone_Is_Prepaid         9999 non-null object\n",
      "Phone_Is_Commercial      9999 non-null object\n",
      "Address_to_Name          9989 non-null object\n",
      "Address_Is_Valid         9989 non-null object\n",
      "Address_Type             9989 non-null object\n",
      "Address_Is_Active        9989 non-null object\n",
      "Address_Is_Commercial    9989 non-null object\n",
      "Call_Disposition         10000 non-null int64\n",
      "dtypes: int64(3), object(16)\n",
      "memory usage: 1.4+ MB\n"
     ]
    }
   ],
   "source": [
    "df.ix[df.Address_Is_Valid == False, 'Address_to_Name'] = 'Invalid address'\n",
    "\n",
    "df.ix[(df.Address_Is_Valid == False) & (df.Address_Type.isnull()), 'Address_Type'] = 'Invalid address'\n",
    "df.ix[(df.Address_Is_Valid == False) & (df.Address_Is_Commercial.isnull()), 'Address_Is_Commercial'] = 'Invalid address'\n",
    "df.ix[(df.Address_Is_Valid == False) & (df.Address_Is_Active.isnull()), 'Address_Is_Active'] = 'Invalid address'\n",
    "\n",
    "df.ix[(df.Address_Is_Valid == True) & (df.Address_to_Name.isnull()), 'Address_to_Name'] = 'No match'\n",
    "df.ix[(df.Address_Is_Valid == True) & (df.Address_Type.isnull()), 'Address_Type'] = 'Unknown'\n",
    "df.ix[(df.Address_Is_Valid == True) & (df.Address_Is_Commercial.isnull()), 'Address_Is_Commercial'] = 'Unknown'\n",
    "df.ix[(df.Address_Is_Valid == True) & (df.Address_Is_Active.isnull()), 'Address_Is_Active'] = 'Unknown'\n",
    "\n",
    "df.info()"
   ]
  },
  {
   "cell_type": "markdown",
   "metadata": {},
   "source": [
    "We can drop the 'Phone_Is_Valid' and 'Address_Is_Valid' columns now since all their data is contained in the subsequent types."
   ]
  },
  {
   "cell_type": "code",
   "execution_count": 5,
   "metadata": {
    "collapsed": true
   },
   "outputs": [],
   "source": [
    "df.drop('Phone_Is_Valid', axis = 1, inplace = True)\n",
    "df.drop('Address_Is_Valid', axis = 1, inplace = True)"
   ]
  },
  {
   "cell_type": "code",
   "execution_count": 6,
   "metadata": {},
   "outputs": [
    {
     "name": "stdout",
     "output_type": "stream",
     "text": [
      "<class 'pandas.core.frame.DataFrame'>\n",
      "Int64Index: 9989 entries, 0 to 9999\n",
      "Data columns (total 17 columns):\n",
      "ORDER                    9989 non-null int64\n",
      "First_Name               9989 non-null object\n",
      "Last_Name                9989 non-null object\n",
      "Mailing_Street           9989 non-null object\n",
      "Mailing_City             9989 non-null object\n",
      "Mailing_State            9989 non-null object\n",
      "Mailing_Zip              9989 non-null int64\n",
      "Phone                    9989 non-null object\n",
      "Phone_to_Name            9989 non-null object\n",
      "Phone_Line_Type          9989 non-null object\n",
      "Phone_Is_Prepaid         9989 non-null object\n",
      "Phone_Is_Commercial      9989 non-null object\n",
      "Address_to_Name          9989 non-null object\n",
      "Address_Type             9989 non-null object\n",
      "Address_Is_Active        9989 non-null object\n",
      "Address_Is_Commercial    9989 non-null object\n",
      "Call_Disposition         9989 non-null int64\n",
      "dtypes: int64(3), object(14)\n",
      "memory usage: 1.4+ MB\n"
     ]
    }
   ],
   "source": [
    "df_noNA = df.dropna(axis=0, how='any')\n",
    "df_noNA.info()"
   ]
  },
  {
   "cell_type": "markdown",
   "metadata": {},
   "source": [
    "Create one-hot-encoded dummy variables for preparing the data before it can be run through any models."
   ]
  },
  {
   "cell_type": "code",
   "execution_count": 7,
   "metadata": {},
   "outputs": [
    {
     "name": "stdout",
     "output_type": "stream",
     "text": [
      "Original Features ['ORDER', 'First_Name', 'Last_Name', 'Mailing_Street', 'Mailing_City', 'Mailing_State', 'Mailing_Zip', 'Phone', 'Phone_to_Name', 'Phone_Line_Type', 'Phone_Is_Prepaid', 'Phone_Is_Commercial', 'Address_to_Name', 'Address_Type', 'Address_Is_Active', 'Address_Is_Commercial', 'Call_Disposition'] \n",
      "\n",
      "Features after get_dummies: \n",
      " ['Phone_to_Name_Invalid phone number', 'Phone_to_Name_Match', 'Phone_to_Name_No match', 'Phone_to_Name_No name found', 'Phone_Line_Type_Fixed VOIP', 'Phone_Line_Type_Invalid phone', 'Phone_Line_Type_Landline', 'Phone_Line_Type_Mobile', 'Phone_Line_Type_Non-fixed VOIP', 'Phone_Line_Type_Tollfree', 'Phone_Is_Prepaid_False', 'Phone_Is_Prepaid_True', 'Phone_Is_Prepaid_Invalid phone', 'Phone_Is_Prepaid_Unknown', 'Phone_Is_Commercial_False', 'Phone_Is_Commercial_True', 'Phone_Is_Commercial_Invalid phone', 'Phone_Is_Commercial_Unknown', 'Address_to_Name_Invalid address', 'Address_to_Name_Match', 'Address_to_Name_No match', 'Address_to_Name_No name found', 'Address_Type_Commercial mail drop', 'Address_Type_Invalid address', 'Address_Type_Multi unit', 'Address_Type_PO box', 'Address_Type_PO box throwback', 'Address_Type_Single unit', 'Address_Type_Unknown', 'Address_Type_Unknown address type', 'Address_Is_Active_False', 'Address_Is_Active_True', 'Address_Is_Active_Invalid address', 'Address_Is_Active_Unknown', 'Address_Is_Commercial_False', 'Address_Is_Commercial_True', 'Address_Is_Commercial_Invalid address', 'Address_Is_Commercial_Unknown']\n"
     ]
    }
   ],
   "source": [
    "print(\"Original Features\", list(df_noNA.columns), \"\\n\")\n",
    "data = df_noNA[['Phone_to_Name', 'Phone_Line_Type', \n",
    "                'Phone_Is_Prepaid', 'Phone_Is_Commercial', 'Address_to_Name', 'Address_Type', 'Address_Is_Active', \n",
    "                'Address_Is_Commercial']]\n",
    "data_dummies = pd.get_dummies(data)\n",
    "print(\"Features after get_dummies: \\n\", list(data_dummies.columns))"
   ]
  },
  {
   "cell_type": "code",
   "execution_count": 8,
   "metadata": {
    "collapsed": true
   },
   "outputs": [],
   "source": [
    "to_append = df_noNA[['ORDER', 'First_Name', 'Last_Name', 'Mailing_Street', \n",
    "                     'Mailing_City', 'Mailing_State', 'Mailing_Zip', 'Phone', 'Call_Disposition']]\n",
    "data = to_append.join(data_dummies.ix[:,:])\n",
    "\n",
    "#Reorder columns\n",
    "data['Result'] = df_noNA['Call_Disposition']\n",
    "del data['Call_Disposition']"
   ]
  },
  {
   "cell_type": "code",
   "execution_count": 9,
   "metadata": {
    "collapsed": true
   },
   "outputs": [],
   "source": [
    "data['Call_Disposition'] = data['Result']\n",
    "del data['Result']"
   ]
  },
  {
   "cell_type": "code",
   "execution_count": 10,
   "metadata": {},
   "outputs": [
    {
     "data": {
      "text/html": [
       "<div>\n",
       "<table border=\"1\" class=\"dataframe\">\n",
       "  <thead>\n",
       "    <tr style=\"text-align: right;\">\n",
       "      <th></th>\n",
       "      <th>ORDER</th>\n",
       "      <th>First_Name</th>\n",
       "      <th>Last_Name</th>\n",
       "      <th>Mailing_Street</th>\n",
       "      <th>Mailing_City</th>\n",
       "      <th>Mailing_State</th>\n",
       "      <th>Mailing_Zip</th>\n",
       "      <th>Phone</th>\n",
       "      <th>Phone_to_Name_Invalid phone number</th>\n",
       "      <th>Phone_to_Name_Match</th>\n",
       "      <th>...</th>\n",
       "      <th>Address_Type_Unknown address type</th>\n",
       "      <th>Address_Is_Active_False</th>\n",
       "      <th>Address_Is_Active_True</th>\n",
       "      <th>Address_Is_Active_Invalid address</th>\n",
       "      <th>Address_Is_Active_Unknown</th>\n",
       "      <th>Address_Is_Commercial_False</th>\n",
       "      <th>Address_Is_Commercial_True</th>\n",
       "      <th>Address_Is_Commercial_Invalid address</th>\n",
       "      <th>Address_Is_Commercial_Unknown</th>\n",
       "      <th>Call_Disposition</th>\n",
       "    </tr>\n",
       "  </thead>\n",
       "  <tbody>\n",
       "    <tr>\n",
       "      <th>0</th>\n",
       "      <td>1</td>\n",
       "      <td>Donald</td>\n",
       "      <td>Mathews</td>\n",
       "      <td>789 Cambridge Place</td>\n",
       "      <td>Hanover</td>\n",
       "      <td>MD</td>\n",
       "      <td>21076</td>\n",
       "      <td>860-452-9151</td>\n",
       "      <td>0</td>\n",
       "      <td>0</td>\n",
       "      <td>...</td>\n",
       "      <td>0</td>\n",
       "      <td>0</td>\n",
       "      <td>1</td>\n",
       "      <td>0</td>\n",
       "      <td>0</td>\n",
       "      <td>0</td>\n",
       "      <td>1</td>\n",
       "      <td>0</td>\n",
       "      <td>0</td>\n",
       "      <td>5</td>\n",
       "    </tr>\n",
       "    <tr>\n",
       "      <th>1</th>\n",
       "      <td>2</td>\n",
       "      <td>Sharon</td>\n",
       "      <td>Ogden</td>\n",
       "      <td>3929 Timber Ridge Road</td>\n",
       "      <td>Sacramento</td>\n",
       "      <td>CA</td>\n",
       "      <td>95814</td>\n",
       "      <td>213-624-4444</td>\n",
       "      <td>0</td>\n",
       "      <td>0</td>\n",
       "      <td>...</td>\n",
       "      <td>0</td>\n",
       "      <td>0</td>\n",
       "      <td>1</td>\n",
       "      <td>0</td>\n",
       "      <td>0</td>\n",
       "      <td>0</td>\n",
       "      <td>1</td>\n",
       "      <td>0</td>\n",
       "      <td>0</td>\n",
       "      <td>5</td>\n",
       "    </tr>\n",
       "    <tr>\n",
       "      <th>2</th>\n",
       "      <td>3</td>\n",
       "      <td>Timothy</td>\n",
       "      <td>Villa</td>\n",
       "      <td>4493 Freedom Lane</td>\n",
       "      <td>Stockton</td>\n",
       "      <td>CA</td>\n",
       "      <td>95204</td>\n",
       "      <td>309-578-4670</td>\n",
       "      <td>0</td>\n",
       "      <td>1</td>\n",
       "      <td>...</td>\n",
       "      <td>1</td>\n",
       "      <td>0</td>\n",
       "      <td>0</td>\n",
       "      <td>0</td>\n",
       "      <td>1</td>\n",
       "      <td>0</td>\n",
       "      <td>1</td>\n",
       "      <td>0</td>\n",
       "      <td>0</td>\n",
       "      <td>1</td>\n",
       "    </tr>\n",
       "    <tr>\n",
       "      <th>3</th>\n",
       "      <td>4</td>\n",
       "      <td>Stephen</td>\n",
       "      <td>Jackson</td>\n",
       "      <td>1739 Five Points</td>\n",
       "      <td>Salisbury</td>\n",
       "      <td>MD</td>\n",
       "      <td>21875</td>\n",
       "      <td>563-574-3653</td>\n",
       "      <td>0</td>\n",
       "      <td>0</td>\n",
       "      <td>...</td>\n",
       "      <td>0</td>\n",
       "      <td>0</td>\n",
       "      <td>1</td>\n",
       "      <td>0</td>\n",
       "      <td>0</td>\n",
       "      <td>1</td>\n",
       "      <td>0</td>\n",
       "      <td>0</td>\n",
       "      <td>0</td>\n",
       "      <td>6</td>\n",
       "    </tr>\n",
       "    <tr>\n",
       "      <th>4</th>\n",
       "      <td>5</td>\n",
       "      <td>Emilie</td>\n",
       "      <td>Sierra</td>\n",
       "      <td>2969 Bell Street</td>\n",
       "      <td>New York</td>\n",
       "      <td>NY</td>\n",
       "      <td>10022</td>\n",
       "      <td>408-236-9031</td>\n",
       "      <td>0</td>\n",
       "      <td>0</td>\n",
       "      <td>...</td>\n",
       "      <td>0</td>\n",
       "      <td>0</td>\n",
       "      <td>1</td>\n",
       "      <td>0</td>\n",
       "      <td>0</td>\n",
       "      <td>0</td>\n",
       "      <td>1</td>\n",
       "      <td>0</td>\n",
       "      <td>0</td>\n",
       "      <td>6</td>\n",
       "    </tr>\n",
       "  </tbody>\n",
       "</table>\n",
       "<p>5 rows × 47 columns</p>\n",
       "</div>"
      ],
      "text/plain": [
       "   ORDER First_Name Last_Name          Mailing_Street Mailing_City  \\\n",
       "0      1     Donald   Mathews     789 Cambridge Place      Hanover   \n",
       "1      2     Sharon     Ogden  3929 Timber Ridge Road   Sacramento   \n",
       "2      3    Timothy     Villa       4493 Freedom Lane     Stockton   \n",
       "3      4    Stephen   Jackson        1739 Five Points    Salisbury   \n",
       "4      5     Emilie    Sierra        2969 Bell Street     New York   \n",
       "\n",
       "  Mailing_State  Mailing_Zip         Phone  \\\n",
       "0            MD        21076  860-452-9151   \n",
       "1            CA        95814  213-624-4444   \n",
       "2            CA        95204  309-578-4670   \n",
       "3            MD        21875  563-574-3653   \n",
       "4            NY        10022  408-236-9031   \n",
       "\n",
       "   Phone_to_Name_Invalid phone number  Phone_to_Name_Match        ...         \\\n",
       "0                                   0                    0        ...          \n",
       "1                                   0                    0        ...          \n",
       "2                                   0                    1        ...          \n",
       "3                                   0                    0        ...          \n",
       "4                                   0                    0        ...          \n",
       "\n",
       "   Address_Type_Unknown address type  Address_Is_Active_False  \\\n",
       "0                                  0                        0   \n",
       "1                                  0                        0   \n",
       "2                                  1                        0   \n",
       "3                                  0                        0   \n",
       "4                                  0                        0   \n",
       "\n",
       "   Address_Is_Active_True  Address_Is_Active_Invalid address  \\\n",
       "0                       1                                  0   \n",
       "1                       1                                  0   \n",
       "2                       0                                  0   \n",
       "3                       1                                  0   \n",
       "4                       1                                  0   \n",
       "\n",
       "   Address_Is_Active_Unknown  Address_Is_Commercial_False  \\\n",
       "0                          0                            0   \n",
       "1                          0                            0   \n",
       "2                          1                            0   \n",
       "3                          0                            1   \n",
       "4                          0                            0   \n",
       "\n",
       "   Address_Is_Commercial_True  Address_Is_Commercial_Invalid address  \\\n",
       "0                           1                                      0   \n",
       "1                           1                                      0   \n",
       "2                           1                                      0   \n",
       "3                           0                                      0   \n",
       "4                           1                                      0   \n",
       "\n",
       "   Address_Is_Commercial_Unknown  Call_Disposition  \n",
       "0                              0                 5  \n",
       "1                              0                 5  \n",
       "2                              0                 1  \n",
       "3                              0                 6  \n",
       "4                              0                 6  \n",
       "\n",
       "[5 rows x 47 columns]"
      ]
     },
     "execution_count": 10,
     "metadata": {},
     "output_type": "execute_result"
    }
   ],
   "source": [
    "data.head()"
   ]
  },
  {
   "cell_type": "code",
   "execution_count": 11,
   "metadata": {},
   "outputs": [
    {
     "data": {
      "text/html": [
       "<div>\n",
       "<table border=\"1\" class=\"dataframe\">\n",
       "  <thead>\n",
       "    <tr style=\"text-align: right;\">\n",
       "      <th></th>\n",
       "      <th>ORDER</th>\n",
       "      <th>First_Name</th>\n",
       "      <th>Last_Name</th>\n",
       "      <th>Mailing_Street</th>\n",
       "      <th>Mailing_City</th>\n",
       "      <th>Mailing_State</th>\n",
       "      <th>Mailing_Zip</th>\n",
       "      <th>Phone</th>\n",
       "      <th>Phone_to_Name_Invalid phone number</th>\n",
       "      <th>Phone_to_Name_Match</th>\n",
       "      <th>Phone_to_Name_No match</th>\n",
       "      <th>Phone_to_Name_No name found</th>\n",
       "      <th>Phone_Line_Type_Fixed VOIP</th>\n",
       "      <th>Phone_Line_Type_Invalid phone</th>\n",
       "      <th>Phone_Line_Type_Landline</th>\n",
       "      <th>Phone_Line_Type_Mobile</th>\n",
       "      <th>Phone_Line_Type_Non-fixed VOIP</th>\n",
       "      <th>Phone_Line_Type_Tollfree</th>\n",
       "      <th>Phone_Is_Prepaid_False</th>\n",
       "      <th>Phone_Is_Prepaid_True</th>\n",
       "      <th>Phone_Is_Prepaid_Invalid phone</th>\n",
       "      <th>Phone_Is_Prepaid_Unknown</th>\n",
       "      <th>Phone_Is_Commercial_False</th>\n",
       "      <th>Phone_Is_Commercial_True</th>\n",
       "      <th>Phone_Is_Commercial_Invalid phone</th>\n",
       "      <th>Phone_Is_Commercial_Unknown</th>\n",
       "      <th>Address_to_Name_Invalid address</th>\n",
       "      <th>Address_to_Name_Match</th>\n",
       "      <th>Address_to_Name_No match</th>\n",
       "      <th>Address_to_Name_No name found</th>\n",
       "      <th>Address_Type_Commercial mail drop</th>\n",
       "      <th>Address_Type_Invalid address</th>\n",
       "      <th>Address_Type_Multi unit</th>\n",
       "      <th>Address_Type_PO box</th>\n",
       "      <th>Address_Type_PO box throwback</th>\n",
       "      <th>Address_Type_Single unit</th>\n",
       "      <th>Address_Type_Unknown</th>\n",
       "      <th>Address_Type_Unknown address type</th>\n",
       "      <th>Address_Is_Active_False</th>\n",
       "      <th>Address_Is_Active_True</th>\n",
       "      <th>Address_Is_Active_Invalid address</th>\n",
       "      <th>Address_Is_Active_Unknown</th>\n",
       "      <th>Address_Is_Commercial_False</th>\n",
       "      <th>Address_Is_Commercial_True</th>\n",
       "      <th>Address_Is_Commercial_Invalid address</th>\n",
       "      <th>Address_Is_Commercial_Unknown</th>\n",
       "      <th>Call_Disposition</th>\n",
       "    </tr>\n",
       "  </thead>\n",
       "  <tbody>\n",
       "    <tr>\n",
       "      <th>count</th>\n",
       "      <td>9989.000000</td>\n",
       "      <td>9989</td>\n",
       "      <td>9989</td>\n",
       "      <td>9989</td>\n",
       "      <td>9989</td>\n",
       "      <td>9989</td>\n",
       "      <td>9989.000000</td>\n",
       "      <td>9989</td>\n",
       "      <td>9989.000000</td>\n",
       "      <td>9989.000000</td>\n",
       "      <td>9989.000000</td>\n",
       "      <td>9989.000000</td>\n",
       "      <td>9989.000000</td>\n",
       "      <td>9989.000000</td>\n",
       "      <td>9989.000000</td>\n",
       "      <td>9989.000000</td>\n",
       "      <td>9989.000000</td>\n",
       "      <td>9989.000000</td>\n",
       "      <td>9989.000000</td>\n",
       "      <td>9989.000000</td>\n",
       "      <td>9989.000000</td>\n",
       "      <td>9989.000000</td>\n",
       "      <td>9989.000000</td>\n",
       "      <td>9989.000000</td>\n",
       "      <td>9989.000000</td>\n",
       "      <td>9989.000000</td>\n",
       "      <td>9989.000000</td>\n",
       "      <td>9989.000000</td>\n",
       "      <td>9989.000000</td>\n",
       "      <td>9989.000000</td>\n",
       "      <td>9989.000000</td>\n",
       "      <td>9989.000000</td>\n",
       "      <td>9989.000000</td>\n",
       "      <td>9989.000000</td>\n",
       "      <td>9989.000000</td>\n",
       "      <td>9989.000000</td>\n",
       "      <td>9989.000000</td>\n",
       "      <td>9989.000000</td>\n",
       "      <td>9989.000000</td>\n",
       "      <td>9989.000000</td>\n",
       "      <td>9989.000000</td>\n",
       "      <td>9989.000000</td>\n",
       "      <td>9989.000000</td>\n",
       "      <td>9989.000000</td>\n",
       "      <td>9989.000000</td>\n",
       "      <td>9989.000000</td>\n",
       "      <td>9989.000000</td>\n",
       "    </tr>\n",
       "    <tr>\n",
       "      <th>unique</th>\n",
       "      <td>NaN</td>\n",
       "      <td>1831</td>\n",
       "      <td>4557</td>\n",
       "      <td>9984</td>\n",
       "      <td>2780</td>\n",
       "      <td>51</td>\n",
       "      <td>NaN</td>\n",
       "      <td>9989</td>\n",
       "      <td>NaN</td>\n",
       "      <td>NaN</td>\n",
       "      <td>NaN</td>\n",
       "      <td>NaN</td>\n",
       "      <td>NaN</td>\n",
       "      <td>NaN</td>\n",
       "      <td>NaN</td>\n",
       "      <td>NaN</td>\n",
       "      <td>NaN</td>\n",
       "      <td>NaN</td>\n",
       "      <td>NaN</td>\n",
       "      <td>NaN</td>\n",
       "      <td>NaN</td>\n",
       "      <td>NaN</td>\n",
       "      <td>NaN</td>\n",
       "      <td>NaN</td>\n",
       "      <td>NaN</td>\n",
       "      <td>NaN</td>\n",
       "      <td>NaN</td>\n",
       "      <td>NaN</td>\n",
       "      <td>NaN</td>\n",
       "      <td>NaN</td>\n",
       "      <td>NaN</td>\n",
       "      <td>NaN</td>\n",
       "      <td>NaN</td>\n",
       "      <td>NaN</td>\n",
       "      <td>NaN</td>\n",
       "      <td>NaN</td>\n",
       "      <td>NaN</td>\n",
       "      <td>NaN</td>\n",
       "      <td>NaN</td>\n",
       "      <td>NaN</td>\n",
       "      <td>NaN</td>\n",
       "      <td>NaN</td>\n",
       "      <td>NaN</td>\n",
       "      <td>NaN</td>\n",
       "      <td>NaN</td>\n",
       "      <td>NaN</td>\n",
       "      <td>NaN</td>\n",
       "    </tr>\n",
       "    <tr>\n",
       "      <th>top</th>\n",
       "      <td>NaN</td>\n",
       "      <td>James</td>\n",
       "      <td>Smith</td>\n",
       "      <td>2533 Boundary Street</td>\n",
       "      <td>New York</td>\n",
       "      <td>CA</td>\n",
       "      <td>NaN</td>\n",
       "      <td>413-437-9481</td>\n",
       "      <td>NaN</td>\n",
       "      <td>NaN</td>\n",
       "      <td>NaN</td>\n",
       "      <td>NaN</td>\n",
       "      <td>NaN</td>\n",
       "      <td>NaN</td>\n",
       "      <td>NaN</td>\n",
       "      <td>NaN</td>\n",
       "      <td>NaN</td>\n",
       "      <td>NaN</td>\n",
       "      <td>NaN</td>\n",
       "      <td>NaN</td>\n",
       "      <td>NaN</td>\n",
       "      <td>NaN</td>\n",
       "      <td>NaN</td>\n",
       "      <td>NaN</td>\n",
       "      <td>NaN</td>\n",
       "      <td>NaN</td>\n",
       "      <td>NaN</td>\n",
       "      <td>NaN</td>\n",
       "      <td>NaN</td>\n",
       "      <td>NaN</td>\n",
       "      <td>NaN</td>\n",
       "      <td>NaN</td>\n",
       "      <td>NaN</td>\n",
       "      <td>NaN</td>\n",
       "      <td>NaN</td>\n",
       "      <td>NaN</td>\n",
       "      <td>NaN</td>\n",
       "      <td>NaN</td>\n",
       "      <td>NaN</td>\n",
       "      <td>NaN</td>\n",
       "      <td>NaN</td>\n",
       "      <td>NaN</td>\n",
       "      <td>NaN</td>\n",
       "      <td>NaN</td>\n",
       "      <td>NaN</td>\n",
       "      <td>NaN</td>\n",
       "      <td>NaN</td>\n",
       "    </tr>\n",
       "    <tr>\n",
       "      <th>freq</th>\n",
       "      <td>NaN</td>\n",
       "      <td>195</td>\n",
       "      <td>138</td>\n",
       "      <td>2</td>\n",
       "      <td>181</td>\n",
       "      <td>1078</td>\n",
       "      <td>NaN</td>\n",
       "      <td>1</td>\n",
       "      <td>NaN</td>\n",
       "      <td>NaN</td>\n",
       "      <td>NaN</td>\n",
       "      <td>NaN</td>\n",
       "      <td>NaN</td>\n",
       "      <td>NaN</td>\n",
       "      <td>NaN</td>\n",
       "      <td>NaN</td>\n",
       "      <td>NaN</td>\n",
       "      <td>NaN</td>\n",
       "      <td>NaN</td>\n",
       "      <td>NaN</td>\n",
       "      <td>NaN</td>\n",
       "      <td>NaN</td>\n",
       "      <td>NaN</td>\n",
       "      <td>NaN</td>\n",
       "      <td>NaN</td>\n",
       "      <td>NaN</td>\n",
       "      <td>NaN</td>\n",
       "      <td>NaN</td>\n",
       "      <td>NaN</td>\n",
       "      <td>NaN</td>\n",
       "      <td>NaN</td>\n",
       "      <td>NaN</td>\n",
       "      <td>NaN</td>\n",
       "      <td>NaN</td>\n",
       "      <td>NaN</td>\n",
       "      <td>NaN</td>\n",
       "      <td>NaN</td>\n",
       "      <td>NaN</td>\n",
       "      <td>NaN</td>\n",
       "      <td>NaN</td>\n",
       "      <td>NaN</td>\n",
       "      <td>NaN</td>\n",
       "      <td>NaN</td>\n",
       "      <td>NaN</td>\n",
       "      <td>NaN</td>\n",
       "      <td>NaN</td>\n",
       "      <td>NaN</td>\n",
       "    </tr>\n",
       "    <tr>\n",
       "      <th>mean</th>\n",
       "      <td>4999.749524</td>\n",
       "      <td>NaN</td>\n",
       "      <td>NaN</td>\n",
       "      <td>NaN</td>\n",
       "      <td>NaN</td>\n",
       "      <td>NaN</td>\n",
       "      <td>50472.669136</td>\n",
       "      <td>NaN</td>\n",
       "      <td>0.003604</td>\n",
       "      <td>0.367905</td>\n",
       "      <td>0.598458</td>\n",
       "      <td>0.030033</td>\n",
       "      <td>0.302032</td>\n",
       "      <td>0.003604</td>\n",
       "      <td>0.423366</td>\n",
       "      <td>0.049755</td>\n",
       "      <td>0.217139</td>\n",
       "      <td>0.004105</td>\n",
       "      <td>0.859045</td>\n",
       "      <td>0.001101</td>\n",
       "      <td>0.003604</td>\n",
       "      <td>0.136250</td>\n",
       "      <td>0.152568</td>\n",
       "      <td>0.813795</td>\n",
       "      <td>0.003604</td>\n",
       "      <td>0.030033</td>\n",
       "      <td>0.013215</td>\n",
       "      <td>0.366603</td>\n",
       "      <td>0.583342</td>\n",
       "      <td>0.036841</td>\n",
       "      <td>0.007008</td>\n",
       "      <td>0.013215</td>\n",
       "      <td>0.378116</td>\n",
       "      <td>0.048854</td>\n",
       "      <td>0.009811</td>\n",
       "      <td>0.503454</td>\n",
       "      <td>0.016418</td>\n",
       "      <td>0.023125</td>\n",
       "      <td>0.015017</td>\n",
       "      <td>0.935729</td>\n",
       "      <td>0.013215</td>\n",
       "      <td>0.036040</td>\n",
       "      <td>0.152267</td>\n",
       "      <td>0.781059</td>\n",
       "      <td>0.013215</td>\n",
       "      <td>0.053459</td>\n",
       "      <td>3.333567</td>\n",
       "    </tr>\n",
       "    <tr>\n",
       "      <th>std</th>\n",
       "      <td>2886.471138</td>\n",
       "      <td>NaN</td>\n",
       "      <td>NaN</td>\n",
       "      <td>NaN</td>\n",
       "      <td>NaN</td>\n",
       "      <td>NaN</td>\n",
       "      <td>29248.805488</td>\n",
       "      <td>NaN</td>\n",
       "      <td>0.059928</td>\n",
       "      <td>0.482259</td>\n",
       "      <td>0.490235</td>\n",
       "      <td>0.170687</td>\n",
       "      <td>0.459162</td>\n",
       "      <td>0.059928</td>\n",
       "      <td>0.494117</td>\n",
       "      <td>0.217449</td>\n",
       "      <td>0.412319</td>\n",
       "      <td>0.063938</td>\n",
       "      <td>0.347993</td>\n",
       "      <td>0.033168</td>\n",
       "      <td>0.059928</td>\n",
       "      <td>0.343071</td>\n",
       "      <td>0.359588</td>\n",
       "      <td>0.389291</td>\n",
       "      <td>0.059928</td>\n",
       "      <td>0.170687</td>\n",
       "      <td>0.114198</td>\n",
       "      <td>0.481901</td>\n",
       "      <td>0.493030</td>\n",
       "      <td>0.188380</td>\n",
       "      <td>0.083422</td>\n",
       "      <td>0.114198</td>\n",
       "      <td>0.484941</td>\n",
       "      <td>0.215573</td>\n",
       "      <td>0.098567</td>\n",
       "      <td>0.500013</td>\n",
       "      <td>0.127083</td>\n",
       "      <td>0.150309</td>\n",
       "      <td>0.121624</td>\n",
       "      <td>0.245247</td>\n",
       "      <td>0.114198</td>\n",
       "      <td>0.186398</td>\n",
       "      <td>0.359298</td>\n",
       "      <td>0.413549</td>\n",
       "      <td>0.114198</td>\n",
       "      <td>0.224958</td>\n",
       "      <td>2.022762</td>\n",
       "    </tr>\n",
       "    <tr>\n",
       "      <th>min</th>\n",
       "      <td>1.000000</td>\n",
       "      <td>NaN</td>\n",
       "      <td>NaN</td>\n",
       "      <td>NaN</td>\n",
       "      <td>NaN</td>\n",
       "      <td>NaN</td>\n",
       "      <td>1001.000000</td>\n",
       "      <td>NaN</td>\n",
       "      <td>0.000000</td>\n",
       "      <td>0.000000</td>\n",
       "      <td>0.000000</td>\n",
       "      <td>0.000000</td>\n",
       "      <td>0.000000</td>\n",
       "      <td>0.000000</td>\n",
       "      <td>0.000000</td>\n",
       "      <td>0.000000</td>\n",
       "      <td>0.000000</td>\n",
       "      <td>0.000000</td>\n",
       "      <td>0.000000</td>\n",
       "      <td>0.000000</td>\n",
       "      <td>0.000000</td>\n",
       "      <td>0.000000</td>\n",
       "      <td>0.000000</td>\n",
       "      <td>0.000000</td>\n",
       "      <td>0.000000</td>\n",
       "      <td>0.000000</td>\n",
       "      <td>0.000000</td>\n",
       "      <td>0.000000</td>\n",
       "      <td>0.000000</td>\n",
       "      <td>0.000000</td>\n",
       "      <td>0.000000</td>\n",
       "      <td>0.000000</td>\n",
       "      <td>0.000000</td>\n",
       "      <td>0.000000</td>\n",
       "      <td>0.000000</td>\n",
       "      <td>0.000000</td>\n",
       "      <td>0.000000</td>\n",
       "      <td>0.000000</td>\n",
       "      <td>0.000000</td>\n",
       "      <td>0.000000</td>\n",
       "      <td>0.000000</td>\n",
       "      <td>0.000000</td>\n",
       "      <td>0.000000</td>\n",
       "      <td>0.000000</td>\n",
       "      <td>0.000000</td>\n",
       "      <td>0.000000</td>\n",
       "      <td>1.000000</td>\n",
       "    </tr>\n",
       "    <tr>\n",
       "      <th>25%</th>\n",
       "      <td>2501.000000</td>\n",
       "      <td>NaN</td>\n",
       "      <td>NaN</td>\n",
       "      <td>NaN</td>\n",
       "      <td>NaN</td>\n",
       "      <td>NaN</td>\n",
       "      <td>27409.000000</td>\n",
       "      <td>NaN</td>\n",
       "      <td>0.000000</td>\n",
       "      <td>0.000000</td>\n",
       "      <td>0.000000</td>\n",
       "      <td>0.000000</td>\n",
       "      <td>0.000000</td>\n",
       "      <td>0.000000</td>\n",
       "      <td>0.000000</td>\n",
       "      <td>0.000000</td>\n",
       "      <td>0.000000</td>\n",
       "      <td>0.000000</td>\n",
       "      <td>1.000000</td>\n",
       "      <td>0.000000</td>\n",
       "      <td>0.000000</td>\n",
       "      <td>0.000000</td>\n",
       "      <td>0.000000</td>\n",
       "      <td>1.000000</td>\n",
       "      <td>0.000000</td>\n",
       "      <td>0.000000</td>\n",
       "      <td>0.000000</td>\n",
       "      <td>0.000000</td>\n",
       "      <td>0.000000</td>\n",
       "      <td>0.000000</td>\n",
       "      <td>0.000000</td>\n",
       "      <td>0.000000</td>\n",
       "      <td>0.000000</td>\n",
       "      <td>0.000000</td>\n",
       "      <td>0.000000</td>\n",
       "      <td>0.000000</td>\n",
       "      <td>0.000000</td>\n",
       "      <td>0.000000</td>\n",
       "      <td>0.000000</td>\n",
       "      <td>1.000000</td>\n",
       "      <td>0.000000</td>\n",
       "      <td>0.000000</td>\n",
       "      <td>0.000000</td>\n",
       "      <td>1.000000</td>\n",
       "      <td>0.000000</td>\n",
       "      <td>0.000000</td>\n",
       "      <td>2.000000</td>\n",
       "    </tr>\n",
       "    <tr>\n",
       "      <th>50%</th>\n",
       "      <td>4999.000000</td>\n",
       "      <td>NaN</td>\n",
       "      <td>NaN</td>\n",
       "      <td>NaN</td>\n",
       "      <td>NaN</td>\n",
       "      <td>NaN</td>\n",
       "      <td>48174.000000</td>\n",
       "      <td>NaN</td>\n",
       "      <td>0.000000</td>\n",
       "      <td>0.000000</td>\n",
       "      <td>1.000000</td>\n",
       "      <td>0.000000</td>\n",
       "      <td>0.000000</td>\n",
       "      <td>0.000000</td>\n",
       "      <td>0.000000</td>\n",
       "      <td>0.000000</td>\n",
       "      <td>0.000000</td>\n",
       "      <td>0.000000</td>\n",
       "      <td>1.000000</td>\n",
       "      <td>0.000000</td>\n",
       "      <td>0.000000</td>\n",
       "      <td>0.000000</td>\n",
       "      <td>0.000000</td>\n",
       "      <td>1.000000</td>\n",
       "      <td>0.000000</td>\n",
       "      <td>0.000000</td>\n",
       "      <td>0.000000</td>\n",
       "      <td>0.000000</td>\n",
       "      <td>1.000000</td>\n",
       "      <td>0.000000</td>\n",
       "      <td>0.000000</td>\n",
       "      <td>0.000000</td>\n",
       "      <td>0.000000</td>\n",
       "      <td>0.000000</td>\n",
       "      <td>0.000000</td>\n",
       "      <td>1.000000</td>\n",
       "      <td>0.000000</td>\n",
       "      <td>0.000000</td>\n",
       "      <td>0.000000</td>\n",
       "      <td>1.000000</td>\n",
       "      <td>0.000000</td>\n",
       "      <td>0.000000</td>\n",
       "      <td>0.000000</td>\n",
       "      <td>1.000000</td>\n",
       "      <td>0.000000</td>\n",
       "      <td>0.000000</td>\n",
       "      <td>2.000000</td>\n",
       "    </tr>\n",
       "    <tr>\n",
       "      <th>75%</th>\n",
       "      <td>7498.000000</td>\n",
       "      <td>NaN</td>\n",
       "      <td>NaN</td>\n",
       "      <td>NaN</td>\n",
       "      <td>NaN</td>\n",
       "      <td>NaN</td>\n",
       "      <td>77006.000000</td>\n",
       "      <td>NaN</td>\n",
       "      <td>0.000000</td>\n",
       "      <td>1.000000</td>\n",
       "      <td>1.000000</td>\n",
       "      <td>0.000000</td>\n",
       "      <td>1.000000</td>\n",
       "      <td>0.000000</td>\n",
       "      <td>1.000000</td>\n",
       "      <td>0.000000</td>\n",
       "      <td>0.000000</td>\n",
       "      <td>0.000000</td>\n",
       "      <td>1.000000</td>\n",
       "      <td>0.000000</td>\n",
       "      <td>0.000000</td>\n",
       "      <td>0.000000</td>\n",
       "      <td>0.000000</td>\n",
       "      <td>1.000000</td>\n",
       "      <td>0.000000</td>\n",
       "      <td>0.000000</td>\n",
       "      <td>0.000000</td>\n",
       "      <td>1.000000</td>\n",
       "      <td>1.000000</td>\n",
       "      <td>0.000000</td>\n",
       "      <td>0.000000</td>\n",
       "      <td>0.000000</td>\n",
       "      <td>1.000000</td>\n",
       "      <td>0.000000</td>\n",
       "      <td>0.000000</td>\n",
       "      <td>1.000000</td>\n",
       "      <td>0.000000</td>\n",
       "      <td>0.000000</td>\n",
       "      <td>0.000000</td>\n",
       "      <td>1.000000</td>\n",
       "      <td>0.000000</td>\n",
       "      <td>0.000000</td>\n",
       "      <td>0.000000</td>\n",
       "      <td>1.000000</td>\n",
       "      <td>0.000000</td>\n",
       "      <td>0.000000</td>\n",
       "      <td>6.000000</td>\n",
       "    </tr>\n",
       "    <tr>\n",
       "      <th>max</th>\n",
       "      <td>10000.000000</td>\n",
       "      <td>NaN</td>\n",
       "      <td>NaN</td>\n",
       "      <td>NaN</td>\n",
       "      <td>NaN</td>\n",
       "      <td>NaN</td>\n",
       "      <td>99901.000000</td>\n",
       "      <td>NaN</td>\n",
       "      <td>1.000000</td>\n",
       "      <td>1.000000</td>\n",
       "      <td>1.000000</td>\n",
       "      <td>1.000000</td>\n",
       "      <td>1.000000</td>\n",
       "      <td>1.000000</td>\n",
       "      <td>1.000000</td>\n",
       "      <td>1.000000</td>\n",
       "      <td>1.000000</td>\n",
       "      <td>1.000000</td>\n",
       "      <td>1.000000</td>\n",
       "      <td>1.000000</td>\n",
       "      <td>1.000000</td>\n",
       "      <td>1.000000</td>\n",
       "      <td>1.000000</td>\n",
       "      <td>1.000000</td>\n",
       "      <td>1.000000</td>\n",
       "      <td>1.000000</td>\n",
       "      <td>1.000000</td>\n",
       "      <td>1.000000</td>\n",
       "      <td>1.000000</td>\n",
       "      <td>1.000000</td>\n",
       "      <td>1.000000</td>\n",
       "      <td>1.000000</td>\n",
       "      <td>1.000000</td>\n",
       "      <td>1.000000</td>\n",
       "      <td>1.000000</td>\n",
       "      <td>1.000000</td>\n",
       "      <td>1.000000</td>\n",
       "      <td>1.000000</td>\n",
       "      <td>1.000000</td>\n",
       "      <td>1.000000</td>\n",
       "      <td>1.000000</td>\n",
       "      <td>1.000000</td>\n",
       "      <td>1.000000</td>\n",
       "      <td>1.000000</td>\n",
       "      <td>1.000000</td>\n",
       "      <td>1.000000</td>\n",
       "      <td>6.000000</td>\n",
       "    </tr>\n",
       "  </tbody>\n",
       "</table>\n",
       "</div>"
      ],
      "text/plain": [
       "               ORDER First_Name Last_Name        Mailing_Street Mailing_City  \\\n",
       "count    9989.000000       9989      9989                  9989         9989   \n",
       "unique           NaN       1831      4557                  9984         2780   \n",
       "top              NaN      James     Smith  2533 Boundary Street     New York   \n",
       "freq             NaN        195       138                     2          181   \n",
       "mean     4999.749524        NaN       NaN                   NaN          NaN   \n",
       "std      2886.471138        NaN       NaN                   NaN          NaN   \n",
       "min         1.000000        NaN       NaN                   NaN          NaN   \n",
       "25%      2501.000000        NaN       NaN                   NaN          NaN   \n",
       "50%      4999.000000        NaN       NaN                   NaN          NaN   \n",
       "75%      7498.000000        NaN       NaN                   NaN          NaN   \n",
       "max     10000.000000        NaN       NaN                   NaN          NaN   \n",
       "\n",
       "       Mailing_State   Mailing_Zip         Phone  \\\n",
       "count           9989   9989.000000          9989   \n",
       "unique            51           NaN          9989   \n",
       "top               CA           NaN  413-437-9481   \n",
       "freq            1078           NaN             1   \n",
       "mean             NaN  50472.669136           NaN   \n",
       "std              NaN  29248.805488           NaN   \n",
       "min              NaN   1001.000000           NaN   \n",
       "25%              NaN  27409.000000           NaN   \n",
       "50%              NaN  48174.000000           NaN   \n",
       "75%              NaN  77006.000000           NaN   \n",
       "max              NaN  99901.000000           NaN   \n",
       "\n",
       "        Phone_to_Name_Invalid phone number  Phone_to_Name_Match  \\\n",
       "count                          9989.000000          9989.000000   \n",
       "unique                                 NaN                  NaN   \n",
       "top                                    NaN                  NaN   \n",
       "freq                                   NaN                  NaN   \n",
       "mean                              0.003604             0.367905   \n",
       "std                               0.059928             0.482259   \n",
       "min                               0.000000             0.000000   \n",
       "25%                               0.000000             0.000000   \n",
       "50%                               0.000000             0.000000   \n",
       "75%                               0.000000             1.000000   \n",
       "max                               1.000000             1.000000   \n",
       "\n",
       "        Phone_to_Name_No match  Phone_to_Name_No name found  \\\n",
       "count              9989.000000                  9989.000000   \n",
       "unique                     NaN                          NaN   \n",
       "top                        NaN                          NaN   \n",
       "freq                       NaN                          NaN   \n",
       "mean                  0.598458                     0.030033   \n",
       "std                   0.490235                     0.170687   \n",
       "min                   0.000000                     0.000000   \n",
       "25%                   0.000000                     0.000000   \n",
       "50%                   1.000000                     0.000000   \n",
       "75%                   1.000000                     0.000000   \n",
       "max                   1.000000                     1.000000   \n",
       "\n",
       "        Phone_Line_Type_Fixed VOIP  Phone_Line_Type_Invalid phone  \\\n",
       "count                  9989.000000                    9989.000000   \n",
       "unique                         NaN                            NaN   \n",
       "top                            NaN                            NaN   \n",
       "freq                           NaN                            NaN   \n",
       "mean                      0.302032                       0.003604   \n",
       "std                       0.459162                       0.059928   \n",
       "min                       0.000000                       0.000000   \n",
       "25%                       0.000000                       0.000000   \n",
       "50%                       0.000000                       0.000000   \n",
       "75%                       1.000000                       0.000000   \n",
       "max                       1.000000                       1.000000   \n",
       "\n",
       "        Phone_Line_Type_Landline  Phone_Line_Type_Mobile  \\\n",
       "count                9989.000000             9989.000000   \n",
       "unique                       NaN                     NaN   \n",
       "top                          NaN                     NaN   \n",
       "freq                         NaN                     NaN   \n",
       "mean                    0.423366                0.049755   \n",
       "std                     0.494117                0.217449   \n",
       "min                     0.000000                0.000000   \n",
       "25%                     0.000000                0.000000   \n",
       "50%                     0.000000                0.000000   \n",
       "75%                     1.000000                0.000000   \n",
       "max                     1.000000                1.000000   \n",
       "\n",
       "        Phone_Line_Type_Non-fixed VOIP  Phone_Line_Type_Tollfree  \\\n",
       "count                      9989.000000               9989.000000   \n",
       "unique                             NaN                       NaN   \n",
       "top                                NaN                       NaN   \n",
       "freq                               NaN                       NaN   \n",
       "mean                          0.217139                  0.004105   \n",
       "std                           0.412319                  0.063938   \n",
       "min                           0.000000                  0.000000   \n",
       "25%                           0.000000                  0.000000   \n",
       "50%                           0.000000                  0.000000   \n",
       "75%                           0.000000                  0.000000   \n",
       "max                           1.000000                  1.000000   \n",
       "\n",
       "        Phone_Is_Prepaid_False  Phone_Is_Prepaid_True  \\\n",
       "count              9989.000000            9989.000000   \n",
       "unique                     NaN                    NaN   \n",
       "top                        NaN                    NaN   \n",
       "freq                       NaN                    NaN   \n",
       "mean                  0.859045               0.001101   \n",
       "std                   0.347993               0.033168   \n",
       "min                   0.000000               0.000000   \n",
       "25%                   1.000000               0.000000   \n",
       "50%                   1.000000               0.000000   \n",
       "75%                   1.000000               0.000000   \n",
       "max                   1.000000               1.000000   \n",
       "\n",
       "        Phone_Is_Prepaid_Invalid phone  Phone_Is_Prepaid_Unknown  \\\n",
       "count                      9989.000000               9989.000000   \n",
       "unique                             NaN                       NaN   \n",
       "top                                NaN                       NaN   \n",
       "freq                               NaN                       NaN   \n",
       "mean                          0.003604                  0.136250   \n",
       "std                           0.059928                  0.343071   \n",
       "min                           0.000000                  0.000000   \n",
       "25%                           0.000000                  0.000000   \n",
       "50%                           0.000000                  0.000000   \n",
       "75%                           0.000000                  0.000000   \n",
       "max                           1.000000                  1.000000   \n",
       "\n",
       "        Phone_Is_Commercial_False  Phone_Is_Commercial_True  \\\n",
       "count                 9989.000000               9989.000000   \n",
       "unique                        NaN                       NaN   \n",
       "top                           NaN                       NaN   \n",
       "freq                          NaN                       NaN   \n",
       "mean                     0.152568                  0.813795   \n",
       "std                      0.359588                  0.389291   \n",
       "min                      0.000000                  0.000000   \n",
       "25%                      0.000000                  1.000000   \n",
       "50%                      0.000000                  1.000000   \n",
       "75%                      0.000000                  1.000000   \n",
       "max                      1.000000                  1.000000   \n",
       "\n",
       "        Phone_Is_Commercial_Invalid phone  Phone_Is_Commercial_Unknown  \\\n",
       "count                         9989.000000                  9989.000000   \n",
       "unique                                NaN                          NaN   \n",
       "top                                   NaN                          NaN   \n",
       "freq                                  NaN                          NaN   \n",
       "mean                             0.003604                     0.030033   \n",
       "std                              0.059928                     0.170687   \n",
       "min                              0.000000                     0.000000   \n",
       "25%                              0.000000                     0.000000   \n",
       "50%                              0.000000                     0.000000   \n",
       "75%                              0.000000                     0.000000   \n",
       "max                              1.000000                     1.000000   \n",
       "\n",
       "        Address_to_Name_Invalid address  Address_to_Name_Match  \\\n",
       "count                       9989.000000            9989.000000   \n",
       "unique                              NaN                    NaN   \n",
       "top                                 NaN                    NaN   \n",
       "freq                                NaN                    NaN   \n",
       "mean                           0.013215               0.366603   \n",
       "std                            0.114198               0.481901   \n",
       "min                            0.000000               0.000000   \n",
       "25%                            0.000000               0.000000   \n",
       "50%                            0.000000               0.000000   \n",
       "75%                            0.000000               1.000000   \n",
       "max                            1.000000               1.000000   \n",
       "\n",
       "        Address_to_Name_No match  Address_to_Name_No name found  \\\n",
       "count                9989.000000                    9989.000000   \n",
       "unique                       NaN                            NaN   \n",
       "top                          NaN                            NaN   \n",
       "freq                         NaN                            NaN   \n",
       "mean                    0.583342                       0.036841   \n",
       "std                     0.493030                       0.188380   \n",
       "min                     0.000000                       0.000000   \n",
       "25%                     0.000000                       0.000000   \n",
       "50%                     1.000000                       0.000000   \n",
       "75%                     1.000000                       0.000000   \n",
       "max                     1.000000                       1.000000   \n",
       "\n",
       "        Address_Type_Commercial mail drop  Address_Type_Invalid address  \\\n",
       "count                         9989.000000                   9989.000000   \n",
       "unique                                NaN                           NaN   \n",
       "top                                   NaN                           NaN   \n",
       "freq                                  NaN                           NaN   \n",
       "mean                             0.007008                      0.013215   \n",
       "std                              0.083422                      0.114198   \n",
       "min                              0.000000                      0.000000   \n",
       "25%                              0.000000                      0.000000   \n",
       "50%                              0.000000                      0.000000   \n",
       "75%                              0.000000                      0.000000   \n",
       "max                              1.000000                      1.000000   \n",
       "\n",
       "        Address_Type_Multi unit  Address_Type_PO box  \\\n",
       "count               9989.000000          9989.000000   \n",
       "unique                      NaN                  NaN   \n",
       "top                         NaN                  NaN   \n",
       "freq                        NaN                  NaN   \n",
       "mean                   0.378116             0.048854   \n",
       "std                    0.484941             0.215573   \n",
       "min                    0.000000             0.000000   \n",
       "25%                    0.000000             0.000000   \n",
       "50%                    0.000000             0.000000   \n",
       "75%                    1.000000             0.000000   \n",
       "max                    1.000000             1.000000   \n",
       "\n",
       "        Address_Type_PO box throwback  Address_Type_Single unit  \\\n",
       "count                     9989.000000               9989.000000   \n",
       "unique                            NaN                       NaN   \n",
       "top                               NaN                       NaN   \n",
       "freq                              NaN                       NaN   \n",
       "mean                         0.009811                  0.503454   \n",
       "std                          0.098567                  0.500013   \n",
       "min                          0.000000                  0.000000   \n",
       "25%                          0.000000                  0.000000   \n",
       "50%                          0.000000                  1.000000   \n",
       "75%                          0.000000                  1.000000   \n",
       "max                          1.000000                  1.000000   \n",
       "\n",
       "        Address_Type_Unknown  Address_Type_Unknown address type  \\\n",
       "count            9989.000000                        9989.000000   \n",
       "unique                   NaN                                NaN   \n",
       "top                      NaN                                NaN   \n",
       "freq                     NaN                                NaN   \n",
       "mean                0.016418                           0.023125   \n",
       "std                 0.127083                           0.150309   \n",
       "min                 0.000000                           0.000000   \n",
       "25%                 0.000000                           0.000000   \n",
       "50%                 0.000000                           0.000000   \n",
       "75%                 0.000000                           0.000000   \n",
       "max                 1.000000                           1.000000   \n",
       "\n",
       "        Address_Is_Active_False  Address_Is_Active_True  \\\n",
       "count               9989.000000             9989.000000   \n",
       "unique                      NaN                     NaN   \n",
       "top                         NaN                     NaN   \n",
       "freq                        NaN                     NaN   \n",
       "mean                   0.015017                0.935729   \n",
       "std                    0.121624                0.245247   \n",
       "min                    0.000000                0.000000   \n",
       "25%                    0.000000                1.000000   \n",
       "50%                    0.000000                1.000000   \n",
       "75%                    0.000000                1.000000   \n",
       "max                    1.000000                1.000000   \n",
       "\n",
       "        Address_Is_Active_Invalid address  Address_Is_Active_Unknown  \\\n",
       "count                         9989.000000                9989.000000   \n",
       "unique                                NaN                        NaN   \n",
       "top                                   NaN                        NaN   \n",
       "freq                                  NaN                        NaN   \n",
       "mean                             0.013215                   0.036040   \n",
       "std                              0.114198                   0.186398   \n",
       "min                              0.000000                   0.000000   \n",
       "25%                              0.000000                   0.000000   \n",
       "50%                              0.000000                   0.000000   \n",
       "75%                              0.000000                   0.000000   \n",
       "max                              1.000000                   1.000000   \n",
       "\n",
       "        Address_Is_Commercial_False  Address_Is_Commercial_True  \\\n",
       "count                   9989.000000                 9989.000000   \n",
       "unique                          NaN                         NaN   \n",
       "top                             NaN                         NaN   \n",
       "freq                            NaN                         NaN   \n",
       "mean                       0.152267                    0.781059   \n",
       "std                        0.359298                    0.413549   \n",
       "min                        0.000000                    0.000000   \n",
       "25%                        0.000000                    1.000000   \n",
       "50%                        0.000000                    1.000000   \n",
       "75%                        0.000000                    1.000000   \n",
       "max                        1.000000                    1.000000   \n",
       "\n",
       "        Address_Is_Commercial_Invalid address  Address_Is_Commercial_Unknown  \\\n",
       "count                             9989.000000                    9989.000000   \n",
       "unique                                    NaN                            NaN   \n",
       "top                                       NaN                            NaN   \n",
       "freq                                      NaN                            NaN   \n",
       "mean                                 0.013215                       0.053459   \n",
       "std                                  0.114198                       0.224958   \n",
       "min                                  0.000000                       0.000000   \n",
       "25%                                  0.000000                       0.000000   \n",
       "50%                                  0.000000                       0.000000   \n",
       "75%                                  0.000000                       0.000000   \n",
       "max                                  1.000000                       1.000000   \n",
       "\n",
       "        Call_Disposition  \n",
       "count        9989.000000  \n",
       "unique               NaN  \n",
       "top                  NaN  \n",
       "freq                 NaN  \n",
       "mean            3.333567  \n",
       "std             2.022762  \n",
       "min             1.000000  \n",
       "25%             2.000000  \n",
       "50%             2.000000  \n",
       "75%             6.000000  \n",
       "max             6.000000  "
      ]
     },
     "execution_count": 11,
     "metadata": {},
     "output_type": "execute_result"
    }
   ],
   "source": [
    "pd.options.display.max_columns = 999\n",
    "data.describe(include = 'all')"
   ]
  },
  {
   "cell_type": "markdown",
   "metadata": {},
   "source": [
    "## Visualizing the Data"
   ]
  },
  {
   "cell_type": "code",
   "execution_count": 12,
   "metadata": {},
   "outputs": [
    {
     "data": {
      "text/plain": [
       "<matplotlib.axes._subplots.AxesSubplot at 0x21e7158be48>"
      ]
     },
     "execution_count": 12,
     "metadata": {},
     "output_type": "execute_result"
    },
    {
     "data": {
      "image/png": "[encoded data removed]",
      "text/plain": [
       "<matplotlib.figure.Figure at 0x21e704f7f28>"
      ]
     },
     "metadata": {},
     "output_type": "display_data"
    }
   ],
   "source": [
    "data_to_plot = df_noNA[['Phone_to_Name', 'Phone_Line_Type', \n",
    "                'Phone_Is_Prepaid', 'Phone_Is_Commercial', 'Address_to_Name', \n",
    "                   'Address_Type', 'Address_Is_Active', \n",
    "                'Address_Is_Commercial', 'Call_Disposition']]\n",
    "sns.set()\n",
    "sns.countplot(x=\"Call_Disposition\", data=data_to_plot)"
   ]
  },
  {
   "cell_type": "markdown",
   "metadata": {},
   "source": [
    "From the plot above, we can see there is a class imbalance for a score of 4. We could potentially combine scores 3, 4 and 5 to reduce the problem from a 6-class classification to a 4-class classification.\n",
    "\n",
    "One possible cause for such an imbalance is a bias in the reporting i.e. people are likely to report a lead as either high value or low value, but not medium value."
   ]
  },
  {
   "cell_type": "code",
   "execution_count": 13,
   "metadata": {},
   "outputs": [
    {
     "data": {
      "text/plain": [
       "<matplotlib.axes._subplots.AxesSubplot at 0x21e71738a90>"
      ]
     },
     "execution_count": 13,
     "metadata": {},
     "output_type": "execute_result"
    },
    {
     "data": {
      "image/png": "[encoded data removed]",
      "text/plain": [
       "<matplotlib.figure.Figure at 0x21e7158bb00>"
      ]
     },
     "metadata": {},
     "output_type": "display_data"
    }
   ],
   "source": [
    "sns.countplot(x=\"Phone_to_Name\", hue=\"Call_Disposition\", data=data_to_plot)"
   ]
  },
  {
   "cell_type": "markdown",
   "metadata": {},
   "source": [
    "The most common category is 'No match'. The data here suggests this may not be a useful feature for a score of 1 (roughly equal counts for score 1 in 'No match' & 'Match', but could be useful for classifying scores of 6."
   ]
  },
  {
   "cell_type": "code",
   "execution_count": 14,
   "metadata": {},
   "outputs": [
    {
     "data": {
      "text/plain": [
       "<matplotlib.axes._subplots.AxesSubplot at 0x21e71df3b70>"
      ]
     },
     "execution_count": 14,
     "metadata": {},
     "output_type": "execute_result"
    },
    {
     "data": {
      "image/png": "[encoded data removed]",
      "text/plain": [
       "<matplotlib.figure.Figure at 0x21e71d9dd68>"
      ]
     },
     "metadata": {},
     "output_type": "display_data"
    }
   ],
   "source": [
    "sns.countplot(x=\"Phone_Line_Type\", hue=\"Call_Disposition\", data=data_to_plot)"
   ]
  },
  {
   "cell_type": "markdown",
   "metadata": {},
   "source": [
    "This feature is unlikely to have a strong correlation with Call Disposition as the distribution is repeated for each category."
   ]
  },
  {
   "cell_type": "code",
   "execution_count": 15,
   "metadata": {},
   "outputs": [
    {
     "data": {
      "text/plain": [
       "<matplotlib.axes._subplots.AxesSubplot at 0x21e71df3ba8>"
      ]
     },
     "execution_count": 15,
     "metadata": {},
     "output_type": "execute_result"
    },
    {
     "data": {
      "image/png": "[encoded data removed]",
      "text/plain": [
       "<matplotlib.figure.Figure at 0x21e71f96f60>"
      ]
     },
     "metadata": {},
     "output_type": "display_data"
    }
   ],
   "source": [
    "sns.countplot(x=\"Phone_Is_Commercial\", hue=\"Call_Disposition\", data=data_to_plot)"
   ]
  },
  {
   "cell_type": "markdown",
   "metadata": {},
   "source": [
    "Focusing on call dispositions 1 & 6 we see that for phones that are commerical (Phone_Is_Commerical=True) Call Dispositions 6 occurs more than 1. However for phones that are not commerical, these two categories occur approximately equally . This suggests that this may be a useful feature."
   ]
  },
  {
   "cell_type": "code",
   "execution_count": 16,
   "metadata": {
    "scrolled": false
   },
   "outputs": [
    {
     "data": {
      "text/plain": [
       "<matplotlib.axes._subplots.AxesSubplot at 0x21e7205be80>"
      ]
     },
     "execution_count": 16,
     "metadata": {},
     "output_type": "execute_result"
    },
    {
     "data": {
      "image/png": "[encoded data removed]",
      "text/plain": [
       "<matplotlib.figure.Figure at 0x21e71d3cda0>"
      ]
     },
     "metadata": {},
     "output_type": "display_data"
    }
   ],
   "source": [
    "sns.countplot(x=\"Address_to_Name\", hue=\"Call_Disposition\", data=data_to_plot)"
   ]
  },
  {
   "cell_type": "markdown",
   "metadata": {},
   "source": [
    "Similar to the Phone_Is_Commerical feature, match & no match for the Address_to_Name feature seems to distinuish well between Call Dispositions 1 & 6"
   ]
  },
  {
   "cell_type": "code",
   "execution_count": 17,
   "metadata": {
    "scrolled": false
   },
   "outputs": [
    {
     "data": {
      "text/plain": [
       "<matplotlib.axes._subplots.AxesSubplot at 0x21e721b8a90>"
      ]
     },
     "execution_count": 17,
     "metadata": {},
     "output_type": "execute_result"
    },
    {
     "data": {
      "image/png": "[encoded data removed]",
      "text/plain": [
       "<matplotlib.figure.Figure at 0x21e71f969b0>"
      ]
     },
     "metadata": {},
     "output_type": "display_data"
    }
   ],
   "source": [
    "sns.countplot(y=\"Address_Type\", hue=\"Call_Disposition\", data=data_to_plot)"
   ]
  },
  {
   "cell_type": "markdown",
   "metadata": {},
   "source": [
    "The majority of the observed Address_Types are Multi or Single unit. Between these, there is an approximately similar distribution of Call Dispositions, suggesting this is not likely to be an important feature"
   ]
  },
  {
   "cell_type": "code",
   "execution_count": 18,
   "metadata": {},
   "outputs": [
    {
     "data": {
      "text/plain": [
       "<matplotlib.axes._subplots.AxesSubplot at 0x21e722a3dd8>"
      ]
     },
     "execution_count": 18,
     "metadata": {},
     "output_type": "execute_result"
    },
    {
     "data": {
      "image/png": "[encoded data removed]",
      "text/plain": [
       "<matplotlib.figure.Figure at 0x21e72259ef0>"
      ]
     },
     "metadata": {},
     "output_type": "display_data"
    }
   ],
   "source": [
    "sns.countplot(x=\"Address_Is_Active\", hue=\"Call_Disposition\", data=data_to_plot)"
   ]
  },
  {
   "cell_type": "markdown",
   "metadata": {},
   "source": [
    "Because the majority of Addresses are active (Address_Is_Active=True), this attribute is not likely to be discriminating."
   ]
  },
  {
   "cell_type": "code",
   "execution_count": 19,
   "metadata": {},
   "outputs": [
    {
     "data": {
      "text/plain": [
       "<matplotlib.axes._subplots.AxesSubplot at 0x21e723f8780>"
      ]
     },
     "execution_count": 19,
     "metadata": {},
     "output_type": "execute_result"
    },
    {
     "data": {
      "image/png": "[encoded data removed]",
      "text/plain": [
       "<matplotlib.figure.Figure at 0x21e722a3f60>"
      ]
     },
     "metadata": {},
     "output_type": "display_data"
    }
   ],
   "source": [
    "sns.countplot(x=\"Address_Is_Commercial\", hue=\"Call_Disposition\", data=data_to_plot)"
   ]
  },
  {
   "cell_type": "markdown",
   "metadata": {},
   "source": [
    "While unlikely to significantly distinguish between Call Dispositions 1 & 6, Address_Is_Commerical may provide a strong signal for distinguishing Call Dispositions 1 & 2"
   ]
  },
  {
   "cell_type": "code",
   "execution_count": 20,
   "metadata": {
    "collapsed": true
   },
   "outputs": [],
   "source": [
    "def plot_corr(df,size=10):\n",
    "    '''Function plots a graphical correlation matrix for each pair of columns in the dataframe.\n",
    "\n",
    "    Input:\n",
    "        df: pandas DataFrame\n",
    "        size: vertical and horizontal size of the plot'''\n",
    "\n",
    "    corr = df.corr()\n",
    "    fig, ax = plt.subplots(figsize=(size, size))\n",
    "    ax.matshow(corr)\n",
    "    #plt.xticks(range(len(corr.columns)), corr.columns);\n",
    "    plt.yticks(range(len(corr.columns)), corr.columns);\n",
    "    "
   ]
  },
  {
   "cell_type": "code",
   "execution_count": 21,
   "metadata": {},
   "outputs": [
    {
     "data": {
      "image/png": "[encoded data removed]",
      "text/plain": [
       "<matplotlib.figure.Figure at 0x21e7158bc88>"
      ]
     },
     "metadata": {},
     "output_type": "display_data"
    }
   ],
   "source": [
    "\"\"\"Plot the correlation matrix to examine correlations between each pair of features and the target Result.\n",
    "\n",
    "\"\"\"\n",
    "to_corr = data[data.columns[8:]]\n",
    "\n",
    "plot_corr(to_corr)\n"
   ]
  },
  {
   "cell_type": "markdown",
   "metadata": {},
   "source": [
    "Plotting the correlation matrix on the one-hot-encoded features shows:\n",
    "  1. No single feature is strongly correlated with Call_Disposition (the complete list of correlations to Call_Disposition is below)\n",
    "  2. There is significant correlation between certain features. For example Phone_Is_Commerical_Invalid_phone is highly correlated with Phone_to_Name_Invalid_phone (which is to be expected)"
   ]
  },
  {
   "cell_type": "code",
   "execution_count": 22,
   "metadata": {},
   "outputs": [
    {
     "name": "stdout",
     "output_type": "stream",
     "text": [
      "Phone_to_Name_Match                     -0.245181\n",
      "Address_Type_Unknown                    -0.104656\n",
      "Phone_Line_Type_Fixed VOIP              -0.091884\n",
      "Phone_Is_Commercial_True                -0.078648\n",
      "Address_to_Name_Match                   -0.076882\n",
      "Address_Is_Active_Unknown               -0.070126\n",
      "Address_Is_Commercial_Unknown           -0.055034\n",
      "Address_Type_PO box                     -0.039442\n",
      "Address_Type_Single unit                -0.033014\n",
      "Address_Is_Commercial_True              -0.030938\n",
      "Phone_Is_Commercial_Invalid phone       -0.028089\n",
      "Phone_Is_Prepaid_Invalid phone          -0.028089\n",
      "Phone_to_Name_Invalid phone number      -0.028089\n",
      "Phone_Line_Type_Invalid phone           -0.028089\n",
      "Phone_Line_Type_Mobile                  -0.018388\n",
      "Address_Type_PO box throwback           -0.006372\n",
      "Phone_Is_Prepaid_False                  -0.002751\n",
      "Address_to_Name_No name found            0.005057\n",
      "Address_Type_Unknown address type        0.005251\n",
      "Phone_Is_Prepaid_Unknown                 0.006206\n",
      "Address_Is_Active_False                  0.008939\n",
      "Phone_Line_Type_Non-fixed VOIP           0.013744\n",
      "Phone_Is_Prepaid_True                    0.015417\n",
      "Address_to_Name_Invalid address          0.017324\n",
      "Address_Type_Invalid address             0.017324\n",
      "Address_Is_Commercial_Invalid address    0.017324\n",
      "Address_Is_Active_Invalid address        0.017324\n",
      "Phone_Line_Type_Tollfree                 0.034313\n",
      "Address_Type_Commercial mail drop        0.040732\n",
      "Address_Is_Active_True                   0.040799\n",
      "Phone_Is_Commercial_False                0.058039\n",
      "Address_Is_Commercial_False              0.064560\n",
      "Phone_Is_Commercial_Unknown              0.066966\n",
      "Phone_to_Name_No name found              0.066966\n",
      "Address_Type_Multi unit                  0.067581\n",
      "Address_to_Name_No match                 0.069201\n",
      "Phone_Line_Type_Landline                 0.080974\n",
      "Phone_to_Name_No match                   0.221310\n",
      "Call_Disposition                         1.000000\n",
      "Name: Call_Disposition, dtype: float64\n"
     ]
    }
   ],
   "source": [
    "corr_data = to_corr.corr()\n",
    "print(corr_data['Call_Disposition'].sort_values(ascending=True))"
   ]
  },
  {
   "cell_type": "markdown",
   "metadata": {},
   "source": [
    "It is clear that Phone_to_Name is the feature most highly correlated with Call_Disposition. Note that No_Match is positively correlated, meaning that when No Match is 1 (True) the Call_Disposition is more likely to be high (i.e. a less positive lead). This explains why Phone_to_Name_Match is *negatively* correlated with Call_Disposition."
   ]
  },
  {
   "cell_type": "code",
   "execution_count": 23,
   "metadata": {
    "collapsed": true
   },
   "outputs": [],
   "source": [
    "# Setting up the training (70%) and test (30%) sets\n",
    "np.random.seed(42)\n",
    "msk1 = np.random.rand(len(data)) < 0.7\n",
    "train = data[msk1]\n",
    "test = data[~msk1]"
   ]
  },
  {
   "cell_type": "code",
   "execution_count": 24,
   "metadata": {
    "collapsed": true
   },
   "outputs": [],
   "source": [
    "features = train.columns[8:-1]"
   ]
  },
  {
   "cell_type": "markdown",
   "metadata": {},
   "source": [
    "## Model Selection"
   ]
  },
  {
   "cell_type": "markdown",
   "metadata": {},
   "source": [
    "In the following cells several classifier algorithms are tested, with the cross-validation accuracy outputted for each."
   ]
  },
  {
   "cell_type": "code",
   "execution_count": 25,
   "metadata": {},
   "outputs": [
    {
     "name": "stdout",
     "output_type": "stream",
     "text": [
      "LR: 0.377939 (0.042892)\n",
      "NB: 0.369489 (0.023141)\n",
      "SVM: 0.385675 (0.036127)\n",
      "KNN: 0.310944 (0.054199)\n",
      "NN: 0.381327 (0.051265)\n",
      "DNN: 0.382026 (0.045232)\n",
      "CART: 0.364717 (0.049240)\n",
      "RF: 0.364857 (0.048750)\n",
      "ERF: 0.363310 (0.049151)\n",
      "AB: 0.364292 (0.042477)\n",
      "GB: 0.373865 (0.049345)\n"
     ]
    }
   ],
   "source": [
    "# Consider model options and evaluate metrics using k-folds cross-validation\n",
    "num_folds = 10\n",
    "num_instances = len(train[features])\n",
    "seed = 42\n",
    "scoring = 'accuracy'\n",
    "models = []\n",
    "\n",
    "models.append(('LR', LogisticRegression(solver='lbfgs', multi_class = 'multinomial')))  # Logisitic Regression\n",
    "models.append(('NB', BernoulliNB()))                                                    # Naive Bayes Bernoulli classifier\n",
    "models.append(('SVM', SVC(kernel='rbf')))                                               # Support Vector Classifier\n",
    "models.append(('KNN', KNeighborsClassifier()))                                          # K-Nearest neighbours\n",
    "models.append(('NN', MLPClassifier()))                                                  # Neural Network (single hidden layer)\n",
    "models.append(('DNN', MLPClassifier(hidden_layer_sizes = (38,38,6))))                   # Deep Learning Neural Network\n",
    "models.append(('CART', DecisionTreeClassifier()))                                       # Decision Tree Classifier\n",
    "models.append(('RF', RandomForestClassifier(n_estimators=100)))                         # Random Forest Classifier\n",
    "models.append(('ERF', ExtraTreesClassifier(n_estimators=100)))                          # Extra Random Forest Classifier\n",
    "models.append(('AB', AdaBoostClassifier(n_estimators=100)))                             # Ada Boost Classifier\n",
    "models.append(('GB', GradientBoostingClassifier(n_estimators=100)))                     # Gradient Boosting Classifier\n",
    "\n",
    "\n",
    "# evaluate each model in turn\n",
    "results = []\n",
    "names = []\n",
    "for name, model in models:\n",
    "    kfold = KFold(n_splits=num_folds, random_state=seed)\n",
    "    cv_results = cross_val_score(model, train[features], train['Call_Disposition'], cv=kfold, scoring=scoring)\n",
    "    results.append(cv_results)\n",
    "    names.append(name)\n",
    "    msg = \"%s: %f (%f)\" % (name, cv_results.mean(), cv_results.std())\n",
    "    print(msg)"
   ]
  },
  {
   "cell_type": "code",
   "execution_count": 26,
   "metadata": {},
   "outputs": [
    {
     "data": {
      "image/png": "[encoded data removed]",
      "text/plain": [
       "<matplotlib.figure.Figure at 0x21e72217470>"
      ]
     },
     "metadata": {},
     "output_type": "display_data"
    }
   ],
   "source": [
    "# Compare Algorithms\n",
    "fig = plt.figure()\n",
    "fig.suptitle('Algorithm Comparison')\n",
    "ax = fig.add_subplot(111)\n",
    "plt.boxplot(results)\n",
    "ax.set_xticklabels(names)\n",
    "plt.show()"
   ]
  },
  {
   "cell_type": "markdown",
   "metadata": {},
   "source": [
    "Focusing on the Support Vector Machine and Deep Neural Network models since they have the higest (pre-tuned) accuracy.\n",
    "Note: Removing gradient boost because, although it has a high maximum accuracy, it also has a high spread in accuracy compared to the other two models"
   ]
  },
  {
   "cell_type": "code",
   "execution_count": 27,
   "metadata": {},
   "outputs": [
    {
     "name": "stdout",
     "output_type": "stream",
     "text": [
      "Best in-sample accuracy: 0.43801885465034474\n",
      "achieved using: {'alpha': 1e-05, 'hidden_layer_sizes': (38, 6)}\n",
      "The out-of-sample accuracy for these parameters: 0.3903194034050936\n"
     ]
    }
   ],
   "source": [
    "# Compare with NN\n",
    "parameters = {'alpha':[0.0001, 0.00001, 0.000001], 'hidden_layer_sizes':[(38, 6), (50, 50, 25), (38, 38, 6)]}\n",
    "NN = MLPClassifier(solver = 'lbfgs', max_iter = 500)\n",
    "\n",
    "clf = GridSearchCV(NN, parameters)\n",
    "clf.fit(train[features], train['Call_Disposition'])\n",
    "clf.get_params(deep=True)\n",
    "print('Best in-sample accuracy: {}'.format(clf.score(train[features], train['Call_Disposition'])))\n",
    "print('achieved using: {}'.format(clf.best_params_))\n",
    "print('The out-of-sample accuracy for these parameters: {}'.format(clf.best_score_))\n",
    "\n",
    "#0.44449134656\n",
    "#{'alpha': 1e-06, 'hidden_layer_sizes': (38, 38, 6)}"
   ]
  },
  {
   "cell_type": "markdown",
   "metadata": {},
   "source": [
    "Tuning the deep learning model's architecture (both number of layers and layer width), and the model regularization parameters, results in the model with the highest accuracy."
   ]
  },
  {
   "cell_type": "code",
   "execution_count": 28,
   "metadata": {},
   "outputs": [
    {
     "name": "stdout",
     "output_type": "stream",
     "text": [
      "Best in-sample accuracy: 0.4053749824117068\n",
      "achieved using: {'C': 10, 'gamma': 0.01}\n",
      "The out-of-sample accuracy for these parameters: 0.40551568875756294\n"
     ]
    }
   ],
   "source": [
    "parameters = {'C':[0.1, 1, 10], 'gamma':[0.01,0.1,1,10]}\n",
    "SVM = SVC()\n",
    "clf = GridSearchCV(SVM, parameters)\n",
    "clf.fit(train[features], train['Call_Disposition'])\n",
    "clf.get_params(deep=True)\n",
    "print('Best in-sample accuracy: {}'.format(clf.score(train[features], train['Call_Disposition'])))\n",
    "print('achieved using: {}'.format(clf.best_params_))\n",
    "print('The out-of-sample accuracy for these parameters: {}'.format(clf.best_score_))"
   ]
  },
  {
   "cell_type": "markdown",
   "metadata": {},
   "source": [
    "Tuning the support vector machine's regularization and kernel coefficient parameters, results in the model with the highest accuracy."
   ]
  },
  {
   "cell_type": "markdown",
   "metadata": {},
   "source": [
    "The (tuned) deep learning model out performs the support vector machine's accuracy by (approx) 10%, and will be focused on in the following."
   ]
  },
  {
   "cell_type": "code",
   "execution_count": 29,
   "metadata": {},
   "outputs": [
    {
     "name": "stdout",
     "output_type": "stream",
     "text": [
      "[ 0.69767442  0.59930691  0.50403071  0.47008081  0.45612554]\n",
      "[ 0.30407448  0.33882302  0.36513025  0.37511957  0.38863113]\n"
     ]
    },
    {
     "data": {
      "text/plain": [
       "<module 'matplotlib.pyplot' from 'C:\\\\ProgramData\\\\Anaconda3\\\\lib\\\\site-packages\\\\matplotlib\\\\pyplot.py'>"
      ]
     },
     "execution_count": 29,
     "metadata": {},
     "output_type": "execute_result"
    },
    {
     "data": {
      "image/png": "[encoded data removed]",
      "text/plain": [
       "<matplotlib.figure.Figure at 0x21e72affd30>"
      ]
     },
     "metadata": {},
     "output_type": "display_data"
    }
   ],
   "source": [
    "#Plot learning curves using sklearn's default learning curve plotting function\n",
    "\n",
    "def plot_learning_curve(estimator, title, X, y, ylim=None, cv=None,\n",
    "                        n_jobs=1, train_sizes=np.linspace(.1, 1.0, 5)):\n",
    "    plt.figure()\n",
    "    plt.title(title)\n",
    "    if ylim is not None:\n",
    "        plt.ylim(*ylim)\n",
    "    plt.xlabel(\"Training examples\")\n",
    "    plt.ylabel(\"Score\")\n",
    "    train_sizes, train_scores, test_scores = learning_curve(\n",
    "        estimator, X, y, cv=cv, n_jobs=n_jobs, train_sizes=train_sizes)\n",
    "    train_scores_mean = np.mean(train_scores, axis=1)\n",
    "    train_scores_std = np.std(train_scores, axis=1)\n",
    "    print(train_scores_mean)\n",
    "    test_scores_mean = np.mean(test_scores, axis=1)\n",
    "    test_scores_std = np.std(test_scores, axis=1)\n",
    "    print(test_scores_mean)\n",
    "    plt.grid()\n",
    "\n",
    "    plt.fill_between(train_sizes, train_scores_mean - train_scores_std,\n",
    "                     train_scores_mean + train_scores_std, alpha=0.1,\n",
    "                     color=\"r\")\n",
    "    plt.fill_between(train_sizes, test_scores_mean - test_scores_std,\n",
    "                     test_scores_mean + test_scores_std, alpha=0.1, color=\"g\")\n",
    "    plt.plot(train_sizes, train_scores_mean, 'o-', color=\"r\",\n",
    "             label=\"Training score\")\n",
    "    plt.plot(train_sizes, test_scores_mean, 'o-', color=\"g\",\n",
    "             label=\"Cross-validation score\")\n",
    "\n",
    "    plt.legend(loc=\"best\")\n",
    "    return plt\n",
    "\n",
    "title = \"Neural Network Classifier\"\n",
    "\n",
    "plot_learning_curve(MLPClassifier(solver = 'lbfgs', max_iter = 500, alpha = 1e-6, hidden_layer_sizes = (38, 38, 6)), \n",
    "                    title, train[features], train['Call_Disposition'], ylim=(1.01, 0.2))  \n",
    "\n",
    "# Learning curve shows we are not in high bias or high variance regimes and the model is making reasonable predictions"
   ]
  },
  {
   "cell_type": "markdown",
   "metadata": {},
   "source": [
    "To ensure that the model isn't significantly overfitting, the learning curves are plotted. \n",
    "\n",
    "The gap between the cross-validation and training scores indicates that there some amount of overfitting occuring, indicating that the model could benefit from additional data. If the full data set were limited to the current 10,000 examples, introducing additional regularization could also reduce this overfitting."
   ]
  },
  {
   "cell_type": "markdown",
   "metadata": {},
   "source": [
    "## Model Training"
   ]
  },
  {
   "cell_type": "markdown",
   "metadata": {},
   "source": [
    "Having selected the best classifier, and tuned the hyper parameters, we now train and evaluate the optimal model."
   ]
  },
  {
   "cell_type": "code",
   "execution_count": 30,
   "metadata": {
    "collapsed": true
   },
   "outputs": [],
   "source": [
    "\n",
    "# Initialize Neural Network model\n",
    "NN = MLPClassifier(solver = 'lbfgs', max_iter = 500, alpha = 1e-6, hidden_layer_sizes = (38, 38, 6))\n",
    "\n",
    "# Train the model\n",
    "NN.fit(X = train[features] ,\n",
    "              y = train['Call_Disposition'])\n",
    "preds = NN.predict(X= train[features])\n",
    "\n",
    "predstest = NN.predict(X=test[features])\n",
    "ytest = test['Call_Disposition']\n"
   ]
  },
  {
   "cell_type": "code",
   "execution_count": 31,
   "metadata": {},
   "outputs": [
    {
     "name": "stdout",
     "output_type": "stream",
     "text": [
      "[[112 309   0   0  42 220]\n",
      " [ 55 402   0   0  27 329]\n",
      " [ 28  69   0   0  20 115]\n",
      " [  3   9   0   0   6  22]\n",
      " [ 32  53   0   0 113 126]\n",
      " [ 39 175   0   0  39 537]]\n"
     ]
    }
   ],
   "source": [
    "# Confusion matrix for NN classifier\n",
    "print(confusion_matrix(ytest, predstest))"
   ]
  },
  {
   "cell_type": "markdown",
   "metadata": {},
   "source": [
    "## Model Evaluation"
   ]
  },
  {
   "cell_type": "code",
   "execution_count": 32,
   "metadata": {},
   "outputs": [
    {
     "name": "stdout",
     "output_type": "stream",
     "text": [
      "             precision    recall  f1-score   support\n",
      "\n",
      "          1       0.42      0.16      0.24       683\n",
      "          2       0.40      0.49      0.44       813\n",
      "          3       0.00      0.00      0.00       232\n",
      "          4       0.00      0.00      0.00        40\n",
      "          5       0.46      0.35      0.40       324\n",
      "          6       0.40      0.68      0.50       790\n",
      "\n",
      "avg / total       0.37      0.40      0.36      2882\n",
      "\n"
     ]
    },
    {
     "name": "stderr",
     "output_type": "stream",
     "text": [
      "C:\\ProgramData\\Anaconda3\\lib\\site-packages\\sklearn\\metrics\\classification.py:1113: UndefinedMetricWarning: Precision and F-score are ill-defined and being set to 0.0 in labels with no predicted samples.\n",
      "  'precision', 'predicted', average, warn_for)\n"
     ]
    }
   ],
   "source": [
    "print(classification_report(ytest, predstest))"
   ]
  },
  {
   "cell_type": "markdown",
   "metadata": {},
   "source": [
    "It is clear that the lack of data for Call Dispositions 3 & 4 has adversely effected the model's ability to predict these classes. It is also worth nothing that the combined accuracy for grouping classes 1 & 2 would likely be somewhat higher. This leads to the possibility of producing a better model, if it were sufficent to predict three classes of Call Disposition (High, Medium and Low). Obviously any such decision would require a deeper understanding of the use-cases & business needs.\n",
    "\n",
    "Note: Considering only the accuracy of the 4 classes that the model was able to predict, the overall precision is 0.41, and the recall is 0.43."
   ]
  },
  {
   "cell_type": "markdown",
   "metadata": {
    "collapsed": true
   },
   "source": [
    "## Summary"
   ]
  },
  {
   "cell_type": "markdown",
   "metadata": {},
   "source": [
    "Having tested multiple models, a deep learning neural network (with 3 hidden layers) provides the highest overall prediciton accuracy. \n",
    "\n",
    "Because neural networks encode the input to output mapping in multiple layers, it is impossible to extract an intuitive understanding of which combinations of features have been selected by the model. However, the trained model provides a definition of that mapping i.e. given any input, the model provides the optimum predicted class.\n",
    "\n",
    "One point of note: because the neural network has multiple hidden layers, all possible interaction terms (up to 3rd order) have been considered by the model. The result can be viewed as a compact way of encoding the most efficient combination of all cubic combinations of the original features.\n",
    "\n",
    "This leads to the obvious follow-up: why not include additional layers? As shown above, the exisiting model is already beginning to suffer from over-fitting, and this problem will increase significantly as the number of layers is increased. With the limited volume of data provided, a deeper network is not likely to improve the out-of-sample accuracy."
   ]
  },
  {
   "cell_type": "code",
   "execution_count": null,
   "metadata": {
    "collapsed": true
   },
   "outputs": [],
   "source": []
  }
 ],
 "metadata": {
  "kernelspec": {
   "display_name": "Python 3",
   "language": "python",
   "name": "python3"
  },
  "language_info": {
   "codemirror_mode": {
    "name": "ipython",
    "version": 3
   },
   "file_extension": ".py",
   "mimetype": "text/x-python",
   "name": "python",
   "nbconvert_exporter": "python",
   "pygments_lexer": "ipython3",
   "version": "3.6.1"
  }
 },
 "nbformat": 4,
 "nbformat_minor": 1
}
